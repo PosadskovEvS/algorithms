{
 "cells": [
  {
   "cell_type": "code",
   "execution_count": null,
   "metadata": {},
   "outputs": [],
   "source": [
    "# Задача: найти самый встречающийся символ"
   ]
  },
  {
   "cell_type": "code",
   "execution_count": null,
   "metadata": {},
   "outputs": [],
   "source": [
    "#Вариант 1. Переберем все позиции и для каждой позиции в строке еще раз переберем все позиции и в случае совпадения прибавим к счетчику единицу. \n",
    "# Найдем максимальное значение счетчика. Сложность O(N*N)\n",
    "#\n",
    "s = input()\n",
    "ans = ''\n",
    "anscnt = 0\n",
    "for i in range(len(s)):\n",
    "    nowcnt = 0\n",
    "    for j in range(len(s)):\n",
    "        if s[i] == s[j]:\n",
    "            nowcnt += 1\n",
    "    if nowcnt > anscnt:\n",
    "        ans = s[i]\n",
    "        anscnt = nowcnt\n",
    "print(ans)"
   ]
  },
  {
   "cell_type": "code",
   "execution_count": 2,
   "metadata": {},
   "outputs": [
    {
     "name": "stdout",
     "output_type": "stream",
     "text": [
      "sdfndgnfd.g,mfdgnsdfdsfdsfds\n",
      "d\n"
     ]
    }
   ],
   "source": [
    "#Вариант 2. Переберем все символы, встречающиеся в строке, а затем переберем все позиции и в случае совпадения прибавим единицу. \n",
    "# Найдем максимальное значение счетчика. Сложность O(N*K)\n",
    "s = input()\n",
    "ans = ''\n",
    "anscnt = 0\n",
    "for now in set(s):\n",
    "    nowcnt = 0\n",
    "    for j in range(len(s)):\n",
    "        if now == s[j]:\n",
    "            nowcnt += 1\n",
    "    if nowcnt > anscnt:\n",
    "        ans = now\n",
    "        anscnt = nowcnt\n",
    "print(ans)"
   ]
  },
  {
   "cell_type": "code",
   "execution_count": 3,
   "metadata": {},
   "outputs": [
    {
     "name": "stdout",
     "output_type": "stream",
     "text": [
      "dsfkldsf/ndskf'safdn\n",
      "s\n"
     ]
    }
   ],
   "source": [
    "#Вариант 3.Заведем словарь, где ключом является символ, а значением - сколько раз он встретился. Если символ встретился \n",
    "# впервые - создаем элемент словаря с ключом, совпадающим с этим символом и знаечнием ноль. Прибавляем к элементу словаря \n",
    "# с ключом, совпадающем с этим символом, единицу. Сложность O(N+K) = O (N)\n",
    "\n",
    "s = input()\n",
    "ans = ''\n",
    "anscnt = 0\n",
    "symcnt = {}\n",
    "for now in s:\n",
    "    if now not in symcnt:\n",
    "        symcnt[now] = 0\n",
    "    symcnt[now] += 1\n",
    "    if symcnt[now] > anscnt:\n",
    "        ans = now\n",
    "        anscnt = symcnt[now]\n",
    "print(ans)"
   ]
  },
  {
   "cell_type": "code",
   "execution_count": 3,
   "metadata": {},
   "outputs": [
    {
     "name": "stdout",
     "output_type": "stream",
     "text": [
      "[10, 20, 30, 40, 50, 60, 70, 80, 90]\n"
     ]
    }
   ],
   "source": [
    "my_list = [[10, 20, 30], [40, 50], [60], [70, 80, 90]]\n",
    "print(sum(my_list, []))"
   ]
  },
  {
   "cell_type": "code",
   "execution_count": null,
   "metadata": {},
   "outputs": [],
   "source": []
  },
  {
   "cell_type": "code",
   "execution_count": null,
   "metadata": {},
   "outputs": [],
   "source": []
  },
  {
   "cell_type": "code",
   "execution_count": null,
   "metadata": {},
   "outputs": [],
   "source": []
  }
 ],
 "metadata": {
  "kernelspec": {
   "display_name": "Python 3 (ipykernel)",
   "language": "python",
   "name": "python3"
  },
  "language_info": {
   "codemirror_mode": {
    "name": "ipython",
    "version": 3
   },
   "file_extension": ".py",
   "mimetype": "text/x-python",
   "name": "python",
   "nbconvert_exporter": "python",
   "pygments_lexer": "ipython3",
   "version": "3.10.9"
  }
 },
 "nbformat": 4,
 "nbformat_minor": 2
}
