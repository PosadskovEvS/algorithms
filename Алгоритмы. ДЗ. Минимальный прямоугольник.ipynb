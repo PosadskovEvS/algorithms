{
 "cells": [
  {
   "cell_type": "markdown",
   "metadata": {},
   "source": [
    "### Описание задачи. Минимальный прямоугольник\n",
    "На клетчатой плоскости закрашено K клеток. Требуется найти минимальный по площади прямоугольник, со сторонами, параллельными линиям сетки, покрывающий все закрашенные клетки.\n",
    "\n",
    "Формат ввода\n",
    "Во входном файле, на первой строке, находится число K (1 ≤ K ≤ 100). На следующих K строках находятся пары чисел Xi и Yi — координаты закрашенных клеток (|Xi|, |Yi| ≤ 109).\n",
    "\n",
    "Формат вывода\n",
    "Выведите в выходной файл координаты левого нижнего и правого верхнего углов прямоугольника."
   ]
  },
  {
   "cell_type": "code",
   "execution_count": 15,
   "metadata": {},
   "outputs": [
    {
     "name": "stdout",
     "output_type": "stream",
     "text": [
      "3\n",
      "1 1 \n",
      "1 10\n",
      "5 5\n",
      "1 1 5 10\n"
     ]
    }
   ],
   "source": [
    "#Ввод данных\n",
    "K = int(input())\n",
    "coord = list()\n",
    "for i in range(K):\n",
    "    coord.append(input())\n",
    "#Кладем в 2 списка отдельно координаты x и отдельно координаты y, а затем берем пару минимальных и пару максимальных x и y: \n",
    "\n",
    "x_list = list(int(coord[i].split()[0]) for i in range(K))\n",
    "y_list = list(int(coord[i].split()[1]) for i in range(K))\n",
    "print(min(x_list), min(y_list), max(x_list), max(y_list))"
   ]
  }
 ],
 "metadata": {
  "kernelspec": {
   "display_name": "Python 3 (ipykernel)",
   "language": "python",
   "name": "python3"
  },
  "language_info": {
   "codemirror_mode": {
    "name": "ipython",
    "version": 3
   },
   "file_extension": ".py",
   "mimetype": "text/x-python",
   "name": "python",
   "nbconvert_exporter": "python",
   "pygments_lexer": "ipython3",
   "version": "3.10.9"
  }
 },
 "nbformat": 4,
 "nbformat_minor": 2
}
