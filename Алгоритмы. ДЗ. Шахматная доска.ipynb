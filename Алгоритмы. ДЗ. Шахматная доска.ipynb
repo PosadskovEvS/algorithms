{
 "cells": [
  {
   "cell_type": "markdown",
   "metadata": {},
   "source": [
    "### Описание задачи. Шахматная доска\n",
    "\n",
    "Из шахматной доски по границам клеток выпилили связную (не распадающуюся на части) фигуру без дыр. Требуется определить ее периметр.\n",
    "\n",
    "Формат ввода\n",
    "Сначала вводится число N (1 ≤ N ≤ 64) – количество выпиленных клеток. В следующих N строках вводятся координаты выпиленных клеток, разделенные пробелом (номер строки и столбца – числа от 1 до 8). Каждая выпиленная клетка указывается один раз.\n",
    "\n",
    "Формат вывода\n",
    "Выведите одно число – периметр выпиленной фигуры (сторона клетки равна единице)."
   ]
  },
  {
   "cell_type": "code",
   "execution_count": 2,
   "metadata": {},
   "outputs": [
    {
     "name": "stdout",
     "output_type": "stream",
     "text": [
      "3\n",
      "1 1\n",
      "1 2\n",
      "2 1\n",
      "8\n"
     ]
    }
   ],
   "source": [
    "#Ввод данных\n",
    "N = int(input())\n",
    "coord = list()\n",
    "for i in range(N):\n",
    "    coord.append(list(map(int, input().split())))\n",
    "\n",
    "dx = (-1, 0, 0, 1) # массив сдвигов по x\n",
    "dy = (0,-1, 1, 0) # массив сдвигов по y\n",
    "\n",
    "# заполняем поле размером 10х10\n",
    "field = []\n",
    "for k in range(10):\n",
    "        field.append([0]*10)\n",
    "\n",
    "for x, y in coord:\n",
    "      for k in range(len(dx)):\n",
    "            field[x+dx[k]][y+dy[k]] += 1\n",
    "\n",
    "for x, y in coord:\n",
    "    field[x][y]=0\n",
    "ans = 0      \n",
    "for i in field:\n",
    "    ans += sum(i)\n",
    "\n",
    "print(ans)\n",
    "    "
   ]
  }
 ],
 "metadata": {
  "kernelspec": {
   "display_name": "Python 3 (ipykernel)",
   "language": "python",
   "name": "python3"
  },
  "language_info": {
   "codemirror_mode": {
    "name": "ipython",
    "version": 3
   },
   "file_extension": ".py",
   "mimetype": "text/x-python",
   "name": "python",
   "nbconvert_exporter": "python",
   "pygments_lexer": "ipython3",
   "version": "3.10.9"
  }
 },
 "nbformat": 4,
 "nbformat_minor": 2
}
