{
 "cells": [
  {
   "cell_type": "markdown",
   "metadata": {},
   "source": [
    "### Описание задачи. Продавец рыбы\n",
    "\n",
    "Вася решил заняться торговлей рыбой. С помощью методов машинного обучения он предсказал цены на рыбу на N дней вперёд. Он решил, что в один день он купит рыбу, а в один из следующих дней — продаст (то есть совершит или ровно одну покупку и продажу или вообще не совершит покупок и продаж, если это не принесёт ему прибыли). К сожалению, рыба — товар скоропортящийся и разница между номером дня продажи и номером дня покупки не должна превышать K.\n",
    "\n",
    "Определите, какую максимальную прибыль получит Вася.\n",
    "\n",
    "Формат ввода\n",
    "В первой строке входных данных задаются числа N и K (1 ≤ N ≤ 10000, 1 ≤ K ≤ 100).\n",
    "\n",
    "Во второй строке задаются цены на рыбу в каждый из N дней. Цена — целое число, которое может находится в пределах от 1 до 109.\n",
    "\n",
    "Формат вывода\n",
    "Выведите одно число — максимальную прибыль, которую получит Вася.\n"
   ]
  },
  {
   "cell_type": "code",
   "execution_count": 1,
   "metadata": {},
   "outputs": [
    {
     "name": "stdout",
     "output_type": "stream",
     "text": [
      "5 2\n",
      "1 2 3 4 5\n",
      "2\n"
     ]
    }
   ],
   "source": [
    "#Ввод данных\n",
    "n_k = input()\n",
    "prices = input().split()\n",
    "n = int(n_k.split()[0])\n",
    "k = int(n_k.split()[1])\n",
    "prices_int = list(int(prices[i]) for i in range(n))\n",
    "ans = 0\n",
    "\n",
    "for i in range(n):\n",
    "    cost = prices_int[i]\n",
    "    d = i + 1\n",
    "    while (d-i <= k) and d < n: \n",
    "        if (prices_int[d] - cost) > ans:\n",
    "            ans = prices_int[d] - cost\n",
    "        d += 1\n",
    "print(ans)"
   ]
  }
 ],
 "metadata": {
  "kernelspec": {
   "display_name": "Python 3 (ipykernel)",
   "language": "python",
   "name": "python3"
  },
  "language_info": {
   "codemirror_mode": {
    "name": "ipython",
    "version": 3
   },
   "file_extension": ".py",
   "mimetype": "text/x-python",
   "name": "python",
   "nbconvert_exporter": "python",
   "pygments_lexer": "ipython3",
   "version": "3.10.9"
  }
 },
 "nbformat": 4,
 "nbformat_minor": 2
}
